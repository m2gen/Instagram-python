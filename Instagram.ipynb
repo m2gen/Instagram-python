{
 "cells": [
  {
   "cell_type": "markdown",
   "id": "a476653e-df0a-4693-9859-1d6657d8e12d",
   "metadata": {},
   "source": [
    "##### １：webdriverとsleepをインポート"
   ]
  },
  {
   "cell_type": "code",
   "execution_count": 1,
   "id": "b4e95b14-fa94-4ba7-aa49-cf1f50f69a5d",
   "metadata": {},
   "outputs": [],
   "source": [
    "from selenium import webdriver\n",
    "from time import sleep"
   ]
  },
  {
   "cell_type": "markdown",
   "id": "41a36e7e-0e73-4772-bc07-370060bb003b",
   "metadata": {},
   "source": [
    "##### ２：ユーザーネーム、パスワードを入力"
   ]
  },
  {
   "cell_type": "code",
   "execution_count": 2,
   "id": "c5cd06e3-6699-4239-a8a8-18a7bfedfae1",
   "metadata": {},
   "outputs": [],
   "source": [
    "USERNAME = \"username\"\n",
    "PASSWORD = \"password\""
   ]
  },
  {
   "cell_type": "markdown",
   "id": "19e42afd-88d5-4ec4-93a8-52835611bcec",
   "metadata": {},
   "source": [
    "##### ３：インスタグラムのURLを読み込む"
   ]
  },
  {
   "cell_type": "code",
   "execution_count": 3,
   "id": "8bba91da-fd03-48d8-a6c9-2fb61d880b0b",
   "metadata": {},
   "outputs": [],
   "source": [
    "driver = webdriver.Chrome(r\"C:\\Users\\user\\chromedriver-win64\\chromedriver-win64\\chromedriver.exe\")\n",
    "target_url = \"https://www.instagram.com/\"\n",
    "driver.get(target_url)\n",
    "sleep(3)"
   ]
  },
  {
   "cell_type": "markdown",
   "id": "368173ca-cdc9-4d8f-95b9-017eafe29d1a",
   "metadata": {},
   "source": [
    "##### ４：エラーの初期値をFalseに"
   ]
  },
  {
   "cell_type": "code",
   "execution_count": 4,
   "id": "470b4e3a-917b-4a47-a74b-64bcbf1a974d",
   "metadata": {},
   "outputs": [],
   "source": [
    "error_flg = False"
   ]
  },
  {
   "cell_type": "markdown",
   "id": "3934d114-9a4c-4b76-825e-5bef5b1c3745",
   "metadata": {},
   "source": [
    "##### ５：自動でログインする処理"
   ]
  },
  {
   "cell_type": "code",
   "execution_count": 5,
   "id": "fab4b281-2051-4362-a443-ecd1ab22ccef",
   "metadata": {},
   "outputs": [],
   "source": [
    "try:\n",
    "    username_input = driver.find_element_by_xpath(\"//input[@aria-label='電話番号、ユーザーネーム、メールアドレス']\")\n",
    "    username_input.send_keys(USERNAME)\n",
    "    sleep(2) \n",
    "\n",
    "    password_input = driver.find_element_by_xpath(\"//input[@aria-label='パスワード']\")\n",
    "    password_input.send_keys(PASSWORD)\n",
    "    sleep(2)\n",
    "\n",
    "    login_button = driver.find_element_by_xpath(\"//button[@type='submit']\")\n",
    "    login_button.submit()\n",
    "    sleep(2)\n",
    "    \n",
    "except Exception:\n",
    "    error_flg = True\n",
    "    print(\"エラーが発生しました\")"
   ]
  },
  {
   "cell_type": "markdown",
   "id": "87416558-5c4d-4b9f-9c81-313f3f659961",
   "metadata": {},
   "source": [
    "##### ６：「後で」ボタンを押す処理（２回）"
   ]
  },
  {
   "cell_type": "code",
   "execution_count": 6,
   "id": "b3943d79-28e0-4e86-a511-4376d014dfa4",
   "metadata": {},
   "outputs": [],
   "source": [
    "if error_flg is False:\n",
    "    try:\n",
    "        sleep(2)\n",
    "        notnow_button = driver.find_element_by_xpath(\"//div[text()='後で']\")\n",
    "        notnow_button.click()\n",
    "        sleep(2)\n",
    "        notnow_button = driver.find_element_by_xpath(\"//button[text()='後で']\")\n",
    "        notnow_button.click()\n",
    "        sleep(2)\n",
    "    except Exception:\n",
    "        pass"
   ]
  },
  {
   "cell_type": "markdown",
   "id": "f6545370-e2f4-436f-a8fc-7443e9cdf724",
   "metadata": {},
   "source": [
    "##### ６：対象のユーザーを検索"
   ]
  },
  {
   "cell_type": "code",
   "execution_count": 7,
   "id": "7a311f1d-8ce3-49bd-b3b7-8af5704689cb",
   "metadata": {},
   "outputs": [],
   "source": [
    "target_username = \"paulnicklen\"\n",
    "if error_flg is False:\n",
    "    try:\n",
    "         target_profile_url = target_url + target_username\n",
    "         driver.get(target_profile_url)\n",
    "         sleep(2)\n",
    "    except Exception:\n",
    "         print(\"検索時にエラーが発生しました\")\n",
    "         error_flg = True"
   ]
  },
  {
   "cell_type": "markdown",
   "id": "63d4b9ac-4c60-4720-a97c-70a121c7a547",
   "metadata": {},
   "source": [
    "#####  ７：スクロールして画像URLを取得 & 出力"
   ]
  },
  {
   "cell_type": "code",
   "execution_count": 8,
   "id": "f934015a-93e2-4cfa-9659-abdb816c9c8f",
   "metadata": {},
   "outputs": [
    {
     "name": "stdout",
     "output_type": "stream",
     "text": [
      "画像番号0\n",
      "image['src']:https://scontent.cdninstagram.com/v/t51.2885-15/426226065_215589208301828_671695173812292680_n.jpg?stp=dst-jpg_e15&efg=eyJ2ZW5jb2RlX3RhZyI6ImltYWdlX3VybGdlbi4xMDgweDE5MjAuc2RyIn0&_nc_ht=scontent.cdninstagram.com&_nc_cat=1&_nc_ohc=2CvJrmR40WsAX_4424O&edm=APs17CUBAAAA&ccb=7-5&ig_cache_key=MzI5ODMzMDE3MDU5MjY0OTMzNg%3D%3D.2-ccb7-5&oh=00_AfDZCm0idomEh_iYE33rQYM07P0x2wY213zEG3p5DDMiNA&oe=65C92D2B&_nc_sid=10d13b\n",
      "\n",
      "画像番号1\n",
      "image['src']:https://scontent.cdninstagram.com/v/t51.2885-15/425456276_352584947655224_2453043674621109670_n.jpg?stp=dst-jpg_e15&efg=eyJ2ZW5jb2RlX3RhZyI6ImltYWdlX3VybGdlbi43MjB4MTI4MC5zZHIifQ&_nc_ht=scontent.cdninstagram.com&_nc_cat=108&_nc_ohc=kXtpqqpGqzAAX-PR2qz&edm=APs17CUBAAAA&ccb=7-5&ig_cache_key=MzI5ODMyNzg2MjcwMjc3ODMyMQ%3D%3D.2-ccb7-5&oh=00_AfBcbCHbUeTkzTJMaleaI-5X1O1T9Ef1rwEcd3BjBeWkOw&oe=65C99FDF&_nc_sid=10d13b\n",
      "\n",
      "画像番号2\n",
      "image['src']:https://scontent.cdninstagram.com/v/t51.2885-15/425550615_764782985121270_7559801002357420663_n.jpg?stp=dst-jpg_e35&efg=eyJ2ZW5jb2RlX3RhZyI6ImltYWdlX3VybGdlbi4xMzMyeDg4OC5zZHIifQ&_nc_ht=scontent.cdninstagram.com&_nc_cat=106&_nc_ohc=i4dyWVA_WQUAX_Tvhbt&edm=APs17CUBAAAA&ccb=7-5&ig_cache_key=MzI5NzU3NDMxNjIzNTYwMzQ1Mg%3D%3D.2-ccb7-5&oh=00_AfCDOqym4Xn5B5Byl1CZRYrFs8MpKZ-LjnV_YaXK9P4pog&oe=65CB0C53&_nc_sid=10d13b\n",
      "\n",
      "画像番号3\n",
      "image['src']:https://scontent.cdninstagram.com/v/t51.2885-15/425001511_914303273554444_2269800772989951105_n.jpg?stp=dst-jpg_e35&efg=eyJ2ZW5jb2RlX3RhZyI6ImltYWdlX3VybGdlbi4xNDQweDE4MDAuc2RyIn0&_nc_ht=scontent.cdninstagram.com&_nc_cat=104&_nc_ohc=JDnF_q-inuIAX_w0wPt&edm=APs17CUBAAAA&ccb=7-5&ig_cache_key=MzI5NjE1ODA4NjczMTkwMDM0OQ%3D%3D.2-ccb7-5&oh=00_AfDY_SLv9VB4Dewth2uU1FiXHHMNrKi88p4z_tqxtmx0Mg&oe=65CA4A03&_nc_sid=10d13b\n",
      "\n",
      "画像番号4\n",
      "image['src']:https://scontent.cdninstagram.com/v/t51.2885-15/425396437_283669921141208_807628773171512876_n.jpg?stp=dst-jpg_e35&efg=eyJ2ZW5jb2RlX3RhZyI6ImltYWdlX3VybGdlbi44MTh4ODE4LnNkciJ9&_nc_ht=scontent.cdninstagram.com&_nc_cat=108&_nc_ohc=MpqdIyqJvFEAX9SV8Kd&edm=APs17CUBAAAA&ccb=7-5&ig_cache_key=MzI5NTQ1Mjc1ODc0NjMwODAzNA%3D%3D.2-ccb7-5&oh=00_AfBad-3uzr6o1J9IlK8_NtMlpkzPBy-5aVViLEvpKyh5wA&oe=65C97A24&_nc_sid=10d13b\n",
      "\n",
      "画像番号5\n",
      "image['src']:https://scontent.cdninstagram.com/v/t51.2885-15/425391817_368976445911962_7993595444113023945_n.jpg?stp=dst-jpg_e15&efg=eyJ2ZW5jb2RlX3RhZyI6ImltYWdlX3VybGdlbi43MjB4MTI4MC5zZHIifQ&_nc_ht=scontent.cdninstagram.com&_nc_cat=102&_nc_ohc=tyTnts0mc-YAX_UGK7J&edm=APs17CUBAAAA&ccb=7-5&ig_cache_key=MzI5NDA5NTIwMTU0ODk0MjM4OA%3D%3D.2-ccb7-5&oh=00_AfBddCqpOQvAGtLDtshv-WRmMaL-W0-Jjv75ULQ_WErQHg&oe=65C9D132&_nc_sid=10d13b\n",
      "\n",
      "画像番号6\n",
      "image['src']:https://scontent.cdninstagram.com/v/t51.2885-15/424619235_410593381408796_6017252267282955523_n.jpg?stp=dst-jpg_e15&efg=eyJ2ZW5jb2RlX3RhZyI6ImltYWdlX3VybGdlbi43MjB4MTI4MC5zZHIifQ&_nc_ht=scontent.cdninstagram.com&_nc_cat=108&_nc_ohc=yncbKG1hgiEAX-9kiXR&edm=APs17CUBAAAA&ccb=7-5&ig_cache_key=MzI5MjUzNzY4NDAyMTM1NjQ0Ng%3D%3D.2-ccb7-5&oh=00_AfD_ibx-xF3cZt1Zj7xrBwGkVh2NWgedK195eJ190SKFlQ&oe=65C94E46&_nc_sid=10d13b\n",
      "\n",
      "画像番号7\n",
      "image['src']:https://scontent.cdninstagram.com/v/t51.2885-15/422941893_905483764301478_7710705272254026896_n.jpg?stp=dst-jpg_e35&efg=eyJ2ZW5jb2RlX3RhZyI6ImltYWdlX3VybGdlbi4xNDQweDE4MDAuc2RyIn0&_nc_ht=scontent.cdninstagram.com&_nc_cat=106&_nc_ohc=XSxR8LFVkvIAX88rGnv&edm=APs17CUBAAAA&ccb=7-5&ig_cache_key=MzI4OTY0NDA3MTAxMjc2NjcxOQ%3D%3D.2-ccb7-5&oh=00_AfBzJD5jJ4Qn-51gczf-JIUgBhW8rWAVnWR0wZWChJuJsg&oe=65CAA5F1&_nc_sid=10d13b\n",
      "\n",
      "画像番号8\n",
      "image['src']:https://scontent.cdninstagram.com/v/t51.2885-15/421783616_256782520773009_4520209575990442555_n.jpg?stp=dst-jpg_e35&efg=eyJ2ZW5jb2RlX3RhZyI6ImltYWdlX3VybGdlbi4xNDQweDE4MDAuc2RyIn0&_nc_ht=scontent.cdninstagram.com&_nc_cat=109&_nc_ohc=P_yakY37RIoAX_g2J3K&edm=APs17CUBAAAA&ccb=7-5&ig_cache_key=MzI4ODI5MzQ1MDk5MjUyMzA2MQ%3D%3D.2-ccb7-5&oh=00_AfA68e8bgJyrjOcMu7vouKu16edcf5u9XFy4YnrmCVOE1A&oe=65CAD0BF&_nc_sid=10d13b\n",
      "\n",
      "画像番号9\n",
      "image['src']:https://scontent.cdninstagram.com/v/t51.2885-15/420962358_2182495258587780_1491778951932364519_n.jpg?stp=dst-jpg_e35&efg=eyJ2ZW5jb2RlX3RhZyI6ImltYWdlX3VybGdlbi4xNDQweDE4MDAuc2RyIn0&_nc_ht=scontent.cdninstagram.com&_nc_cat=100&_nc_ohc=a3_QGY8ywZYAX8X55Ki&edm=APs17CUBAAAA&ccb=7-5&ig_cache_key=MzI4NjAwOTc1OTUyMDQ1NTkwOQ%3D%3D.2-ccb7-5&oh=00_AfC1Ohs3OBmrLIqBqcajHDklu20Qdjhwhzt979CpnVgdqQ&oe=65CA3A2B&_nc_sid=10d13b\n",
      "\n",
      "画像番号10\n",
      "image['src']:https://scontent.cdninstagram.com/v/t51.2885-15/419810400_386368143943236_116394431334408282_n.jpg?stp=dst-jpg_e35&efg=eyJ2ZW5jb2RlX3RhZyI6ImltYWdlX3VybGdlbi4xNDQweDE4MDAuc2RyIn0&_nc_ht=scontent.cdninstagram.com&_nc_cat=100&_nc_ohc=jeKJ79grmFQAX9Ixn9S&edm=APs17CUBAAAA&ccb=7-5&ig_cache_key=MzI4NDU5Mzk3NDgzMDg4NjQ5MA%3D%3D.2-ccb7-5&oh=00_AfCIfjT3SLxRJYyMFAYAcf669sKSnZo2psJWz8CdYQ_KEw&oe=65CABD98&_nc_sid=10d13b\n",
      "\n",
      "画像番号11\n",
      "image['src']:https://scontent.cdninstagram.com/v/t51.2885-15/419817329_726095199488430_7396064901192477966_n.jpg?stp=dst-jpg_e35&efg=eyJ2ZW5jb2RlX3RhZyI6ImltYWdlX3VybGdlbi4xNDQweDE4MDAuc2RyIn0&_nc_ht=scontent.cdninstagram.com&_nc_cat=106&_nc_ohc=u2z_WL5d3gsAX_KCH6w&edm=APs17CUBAAAA&ccb=7-5&ig_cache_key=MzI4MjUwNDI0MzkzODMxNDMxNw%3D%3D.2-ccb7-5&oh=00_AfDvEvg0ewAA9_97ceAWusRiTZvyoZkymyriBhvrZUMZgQ&oe=65CAE4E1&_nc_sid=10d13b\n",
      "\n",
      "画像番号12\n",
      "image['src']:https://scontent.cdninstagram.com/v/t51.2885-15/419504715_937985194475884_2402865052967443345_n.jpg?stp=dst-jpg_e15&efg=eyJ2ZW5jb2RlX3RhZyI6ImltYWdlX3VybGdlbi43MjB4MTI4MC5zZHIifQ&_nc_ht=scontent.cdninstagram.com&_nc_cat=104&_nc_ohc=J9sOj0nQ6CAAX8zUWYM&edm=APs17CUBAAAA&ccb=7-5&ig_cache_key=MzI4MjQ2OTA2NjI1MjE2NTQ2OA%3D%3D.2-ccb7-5&oh=00_AfDfpwAX5OKA9Q1qtDJuGBI1g0-9AJtG9k-GIoFP7MUqqw&oe=65C95972&_nc_sid=10d13b\n",
      "\n",
      "画像番号13\n",
      "image['src']:https://scontent.cdninstagram.com/v/t51.2885-15/418810606_1119134469256153_3285911795570891379_n.jpg?stp=dst-jpg_e35&efg=eyJ2ZW5jb2RlX3RhZyI6ImltYWdlX3VybGdlbi4xNDQweDE4MDAuc2RyIn0&_nc_ht=scontent.cdninstagram.com&_nc_cat=101&_nc_ohc=ttYGo__Fr2cAX8cLfE2&edm=APs17CUBAAAA&ccb=7-5&ig_cache_key=MzI4MDMyOTkyODA5NDMwMTA1Mg%3D%3D.2-ccb7-5&oh=00_AfB_dQIz22_ImG1bwqPGkDRe6-Og_LTlCiVcCJaVZ84rrQ&oe=65CAF7AE&_nc_sid=10d13b\n",
      "\n",
      "画像番号14\n",
      "image['src']:https://scontent.cdninstagram.com/v/t51.2885-15/418665300_231835299963104_4369300417445558687_n.jpg?stp=dst-jpg_e35&efg=eyJ2ZW5jb2RlX3RhZyI6ImltYWdlX3VybGdlbi4xNDQweDE4MDAuc2RyIn0&_nc_ht=scontent.cdninstagram.com&_nc_cat=108&_nc_ohc=M2344eF4hcgAX-aaJ1F&edm=APs17CUBAAAA&ccb=7-5&ig_cache_key=MzI3ODY5NjY0NjMxMTc3NTMwMg%3D%3D.2-ccb7-5&oh=00_AfASxfeF4Opx62N-dijaR2n3sWENsvyCY54ArgPX647epg&oe=65CACADA&_nc_sid=10d13b\n",
      "\n",
      "画像番号15\n",
      "image['src']:https://scontent.cdninstagram.com/v/t51.2885-15/418604317_384288130660105_4774391266935392110_n.jpg?stp=dst-jpg_e15&efg=eyJ2ZW5jb2RlX3RhZyI6ImltYWdlX3VybGdlbi43MjB4MTI4MC5zZHIifQ&_nc_ht=scontent.cdninstagram.com&_nc_cat=101&_nc_ohc=AAI8FGW5-OIAX-PdU_0&edm=APs17CUBAAAA&ccb=7-5&ig_cache_key=MzI3NjcwMzc1NDczNDc0Njk2Mw%3D%3D.2-ccb7-5&oh=00_AfCrd3SEt4gIh5dgB8aSKDjcbi2UvVaPvgLWuMtHG070mQ&oe=65C9216D&_nc_sid=10d13b\n",
      "\n",
      "画像番号16\n",
      "image['src']:https://scontent.cdninstagram.com/v/t51.2885-15/418392517_1583553809050203_1698967013417652875_n.jpg?stp=dst-jpg_e15&efg=eyJ2ZW5jb2RlX3RhZyI6ImltYWdlX3VybGdlbi4xMDgweDE5MjAuc2RyIn0&_nc_ht=scontent.cdninstagram.com&_nc_cat=103&_nc_ohc=7q9EMAn_yQgAX_dYqB1&edm=APs17CUBAAAA&ccb=7-5&ig_cache_key=MzI3NjUyNzM4ODQyMTAxOTczNA%3D%3D.2-ccb7-5&oh=00_AfDk74lLnQHqtpvH9ij61IgBohGJODWTXRnzPw_K7nNZqQ&oe=65C9E13D&_nc_sid=10d13b\n",
      "\n",
      "画像番号17\n",
      "image['src']:https://scontent.cdninstagram.com/v/t51.2885-15/416511011_1713750965783640_6711681725933766270_n.jpg?stp=dst-jpg_e35&efg=eyJ2ZW5jb2RlX3RhZyI6ImltYWdlX3VybGdlbi4xNDQweDE4MDAuc2RyIn0&_nc_ht=scontent.cdninstagram.com&_nc_cat=100&_nc_ohc=2jFEcAHYYpcAX9MY27L&edm=APs17CUBAAAA&ccb=7-5&ig_cache_key=MzI3MjI5NDkzMjk0ODE1NzI1MQ%3D%3D.2-ccb7-5&oh=00_AfDT8pyZWOtB4LwPMwJSL9jExWV2E48or0z1nfzewNVv4A&oe=65CB2D11&_nc_sid=10d13b\n",
      "\n",
      "画像番号18\n",
      "image['src']:https://scontent.cdninstagram.com/v/t51.2885-15/413947817_2524128371087703_8968756611211660186_n.jpg?stp=dst-jpg_e35&efg=eyJ2ZW5jb2RlX3RhZyI6ImltYWdlX3VybGdlbi4xNDQweDE4MDAuc2RyIn0&_nc_ht=scontent.cdninstagram.com&_nc_cat=103&_nc_ohc=ARguizTKavQAX-2iNh_&edm=APs17CUBAAAA&ccb=7-5&ig_cache_key=MzI2Nzk3NjkxNjAyMTYwOTAwNA%3D%3D.2-ccb7-5&oh=00_AfAEl8HUKALB00MrE6_9st4K3grJ9YVzVbzyBmrHpavq8Q&oe=65CBDDEC&_nc_sid=10d13b\n",
      "\n",
      "画像番号19\n",
      "image['src']:https://scontent.cdninstagram.com/v/t51.2885-15/412561362_1601520173941730_7747329725699424676_n.jpg?stp=dst-jpg_e15&efg=eyJ2ZW5jb2RlX3RhZyI6ImltYWdlX3VybGdlbi43MjB4MTI4MC5zZHIifQ&_nc_ht=scontent.cdninstagram.com&_nc_cat=102&_nc_ohc=O7GN3DYfXqgAX-4r4Sn&edm=APs17CUBAAAA&ccb=7-5&ig_cache_key=MzI2NjQ1OTU5OTk1ODI3NDc3OQ%3D%3D.2-ccb7-5&oh=00_AfCmf6DukTVa1blk1fTCljp5lmqqnV8F7lLlxIZu7lvaOg&oe=65C94190&_nc_sid=10d13b\n",
      "\n",
      "画像番号20\n",
      "image['src']:https://scontent.cdninstagram.com/v/t51.2885-15/412075449_3717932835096821_1076522547773069147_n.jpg?stp=dst-jpg_e35&efg=eyJ2ZW5jb2RlX3RhZyI6ImltYWdlX3VybGdlbi4xNDQweDE4MDAuc2RyIn0&_nc_ht=scontent.cdninstagram.com&_nc_cat=105&_nc_ohc=BuCMSAK5bMMAX9Vzp7I&edm=APs17CUBAAAA&ccb=7-5&ig_cache_key=MzI2Mjk0MjY4MTM2MzY3MzAzNQ%3D%3D.2-ccb7-5&oh=00_AfA2YJzLzp7Se15xbXcSub3Xd2N_yyskBuJfuRhTtG7fOg&oe=65CB447E&_nc_sid=10d13b\n",
      "\n",
      "画像番号21\n",
      "image['src']:https://scontent.cdninstagram.com/v/t51.2885-15/411683573_1046237703353272_7456345233745324951_n.jpg?stp=dst-jpg_e35&efg=eyJ2ZW5jb2RlX3RhZyI6ImltYWdlX3VybGdlbi4xNDQweDE4MDAuc2RyIn0&_nc_ht=scontent.cdninstagram.com&_nc_cat=104&_nc_ohc=MQ5PWbpD3BMAX-FkzDH&edm=APs17CUBAAAA&ccb=7-5&ig_cache_key=MzI2MDY4MzA0NTY0Mzg2Njg4OQ%3D%3D.2-ccb7-5&oh=00_AfA9MUOfC-Bu614Uz0MD6gYLB4GsOs0kNEpevm4CDu1d-w&oe=65CBBAC9&_nc_sid=10d13b\n",
      "\n",
      "画像番号22\n",
      "image['src']:https://scontent.cdninstagram.com/v/t51.2885-15/411777949_383694147332784_3824807859930215801_n.jpg?stp=dst-jpg_e35&efg=eyJ2ZW5jb2RlX3RhZyI6ImltYWdlX3VybGdlbi4xNDQweDE4MDAuc2RyIn0&_nc_ht=scontent.cdninstagram.com&_nc_cat=100&_nc_ohc=5wR31EjGDFkAX_Hao1F&edm=APs17CUBAAAA&ccb=7-5&ig_cache_key=MzI1OTIwOTM4NDY0MTUyNTg4OA%3D%3D.2-ccb7-5&oh=00_AfAgh-4AKKXti8mTWz6Hanx8J4dSbDY4RMxb9retwzTQAQ&oe=65CBA8F0&_nc_sid=10d13b\n",
      "\n",
      "画像番号23\n",
      "image['src']:https://scontent.cdninstagram.com/v/t51.2885-15/410200181_343012011778373_7993706070699465104_n.jpg?stp=dst-jpg_e15&efg=eyJ2ZW5jb2RlX3RhZyI6ImltYWdlX3VybGdlbi4xMDgweDE5MjAuc2RyIn0&_nc_ht=scontent.cdninstagram.com&_nc_cat=105&_nc_ohc=NEIksKZJykUAX-QtDFh&edm=APs17CUBAAAA&ccb=7-5&ig_cache_key=MzI1NzA1ODM1NzA5MTk2NjUxNA%3D%3D.2-ccb7-5&oh=00_AfDkHR5Tm9Ss7bNbDd4ukqmdhiSG6NCJWhXit9AkMaAy9Q&oe=65C9C392&_nc_sid=10d13b\n",
      "\n",
      "画像番号24\n",
      "image['src']:https://scontent.cdninstagram.com/v/t51.2885-15/410200181_343012011778373_7993706070699465104_n.jpg?stp=dst-jpg_e15&efg=eyJ2ZW5jb2RlX3RhZyI6ImltYWdlX3VybGdlbi4xMDgweDE5MjAuc2RyIn0&_nc_ht=scontent.cdninstagram.com&_nc_cat=105&_nc_ohc=NEIksKZJykUAX-QtDFh&edm=APs17CUBAAAA&ccb=7-5&ig_cache_key=MzI1NzA1ODM1NzA5MTk2NjUxNA%3D%3D.2-ccb7-5&oh=00_AfDkHR5Tm9Ss7bNbDd4ukqmdhiSG6NCJWhXit9AkMaAy9Q&oe=65C9C392&_nc_sid=10d13b\n",
      "\n"
     ]
    }
   ],
   "source": [
    "from bs4 import BeautifulSoup\n",
    "if error_flg is False:\n",
    "    try:\n",
    "        post_count = 24\n",
    "        if post_count > 12:\n",
    "            scroll_count = int(post_count/12) + 1\n",
    "            try:\n",
    "                all_images = []\n",
    "                for i in range(scroll_count):\n",
    "                    soup = BeautifulSoup(driver.page_source,\"html.parser\")\n",
    "                    for image_tag in soup.select(\"div._aagv\"):\n",
    "                        for image in image_tag.find_all(\"img\"):\n",
    "                            all_images.append(image)\n",
    "                    driver.execute_script(\"window.scrollTo(0,document.body.scrollHeight);\")\n",
    "                    sleep(2)\n",
    "                    if i > 2:\n",
    "                        break\n",
    "                    all_images = list(dict.fromkeys(all_images))\n",
    "                for index, image in enumerate(all_images):\n",
    "                    print(\"画像番号\" + str(index))\n",
    "                    print(\"image['src']:\" + image['src'],end=\"\\n\\n\")\n",
    "            except Exception:\n",
    "                print(\"画面スクロール中にエラーが発生しました\")\n",
    "                error_flg = True\n",
    "    except Exception:\n",
    "        print(\"投稿数が取得できませんでした\")\n",
    "        error_flg = True"
   ]
  },
  {
   "cell_type": "markdown",
   "id": "c8742deb-4ff9-481b-ad55-26e831b5f488",
   "metadata": {},
   "source": [
    "##### ８：ローカルに保存する処理"
   ]
  },
  {
   "cell_type": "code",
   "execution_count": 9,
   "id": "b7fe7b34-2c31-4966-ba3c-39a56bf8e583",
   "metadata": {},
   "outputs": [],
   "source": [
    "import requests\n",
    "import re\n",
    "import os\n",
    "import shutil\n",
    "\n",
    "path = r\"C:\\Users\\user\\OneDrive\\picture\\Photo\"\n",
    "\n",
    "if error_flg is False:\n",
    "    try:\n",
    "        for index, image in enumerate(all_images):\n",
    "            filename = \"image_\" + str(index) + \".jpg\"\n",
    "            image_path = os.path.join(path, filename)\n",
    "            image_link = image[\"src\"]\n",
    "    \n",
    "            url_ptn = re.compile(r\"(http|https)://\")\n",
    "            res = url_ptn.match(image_link)\n",
    "            if res:\n",
    "                response = requests.get(image_link,stream=True)\n",
    "                with open(image_path, \"wb\") as file:\n",
    "                    shutil.copyfileobj(response.raw, file)\n",
    "    except Exception as e:\n",
    "        print(e)\n",
    "        print(str(index) + \"番目の画像のダウンロードに失敗しました\")\n",
    "        print(\"画像へのリンク：\" + image_link)"
   ]
  }
 ],
 "metadata": {
  "kernelspec": {
   "display_name": "Python 3 (ipykernel)",
   "language": "python",
   "name": "python3"
  },
  "language_info": {
   "codemirror_mode": {
    "name": "ipython",
    "version": 3
   },
   "file_extension": ".py",
   "mimetype": "text/x-python",
   "name": "python",
   "nbconvert_exporter": "python",
   "pygments_lexer": "ipython3",
   "version": "3.11.5"
  }
 },
 "nbformat": 4,
 "nbformat_minor": 5
}
